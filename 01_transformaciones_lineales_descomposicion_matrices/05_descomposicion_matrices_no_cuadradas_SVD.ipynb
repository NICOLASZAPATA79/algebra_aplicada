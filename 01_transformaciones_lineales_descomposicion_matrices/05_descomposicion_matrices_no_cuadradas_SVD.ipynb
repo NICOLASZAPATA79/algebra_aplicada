{
 "cells": [
  {
   "attachments": {},
   "cell_type": "markdown",
   "metadata": {},
   "source": [
    "# Descomposición de matrices no cuadradas\n",
    "\n",
    "En el caso de las matrices no cuadradas, no es posible utilizar autovalores y autovectores para descomponer la matriz.\n",
    "\n",
    "Para descomponer matrices de este tipo, se puede utilizar el metodo de descomposición de valores singulares (SVD)\n",
    "\n",
    "El cual llevaría la siguiente forma:\n",
    "\n",
    "$A =S.V.D$, donde \n",
    "\n",
    "- A: matriz original\n",
    "- S: vectores derechos singulares\n",
    "- U: vectores izquierdos singulares\n",
    "- D: es una matriz diagonal, con todos los valores singulares en su diagonal\n",
    "\n",
    "Es importante recordar que S y U son ortogonales, por lo cual todos sus vectores son ortonormales."
   ]
  },
  {
   "cell_type": "code",
   "execution_count": 1,
   "metadata": {},
   "outputs": [],
   "source": [
    "import numpy as np"
   ]
  },
  {
   "cell_type": "code",
   "execution_count": 3,
   "metadata": {},
   "outputs": [
    {
     "name": "stdout",
     "output_type": "stream",
     "text": [
      "[[1 2 3]\n",
      " [3 4 5]]\n"
     ]
    }
   ],
   "source": [
    "A = np.array([\n",
    "    [1,2,3],\n",
    "    [3,4,5]\n",
    "])\n",
    "print(A)"
   ]
  },
  {
   "cell_type": "code",
   "execution_count": 12,
   "metadata": {},
   "outputs": [
    {
     "name": "stdout",
     "output_type": "stream",
     "text": [
      "[[-0.46410668 -0.88577931]\n",
      " [-0.88577931  0.46410668]]\n"
     ]
    }
   ],
   "source": [
    "U,D,V = np.linalg.svd(A)\n",
    "print(U) # Sigulares izquierdos"
   ]
  },
  {
   "cell_type": "code",
   "execution_count": 13,
   "metadata": {},
   "outputs": [
    {
     "name": "stdout",
     "output_type": "stream",
     "text": [
      "[[7.97638869 0.        ]\n",
      " [0.         0.61418515]]\n"
     ]
    }
   ],
   "source": [
    "print(np.diag(D)) # Matriz diagonal"
   ]
  },
  {
   "cell_type": "code",
   "execution_count": 14,
   "metadata": {},
   "outputs": [
    {
     "name": "stdout",
     "output_type": "stream",
     "text": [
      "[[-0.39133557 -0.5605708  -0.72980603]\n",
      " [ 0.8247362   0.13817999 -0.54837623]\n",
      " [ 0.40824829 -0.81649658  0.40824829]]\n"
     ]
    }
   ],
   "source": [
    "print(V) # Singulares derechos"
   ]
  },
  {
   "attachments": {},
   "cell_type": "markdown",
   "metadata": {},
   "source": [
    "## Comprobación de la descomposición \n",
    "\n",
    "Como se puede observar, las matrices U y D tienen dimensiones (2,2), mientras que V es (3,3). Por lo cual se debe ajustar. Esto se puede realizar con el parámetro *full_matrices* de svd, también podrían añadirse una columna de 0 a la matriz diagonal para así poder realizarse la operación."
   ]
  },
  {
   "cell_type": "code",
   "execution_count": 24,
   "metadata": {},
   "outputs": [
    {
     "name": "stdout",
     "output_type": "stream",
     "text": [
      "[[1. 2. 3.]\n",
      " [3. 4. 5.]]\n"
     ]
    }
   ],
   "source": [
    "U,D,V = np.linalg.svd(A,full_matrices=False )\n",
    "A_calc=U.dot(np.diag(D)).dot(V)\n",
    "print(A_calc)"
   ]
  },
  {
   "cell_type": "code",
   "execution_count": 31,
   "metadata": {},
   "outputs": [
    {
     "data": {
      "text/plain": [
       "True"
      ]
     },
     "execution_count": 31,
     "metadata": {},
     "output_type": "execute_result"
    }
   ],
   "source": [
    "np.allclose(A,A_calc) # Metodo para comparar si dos matrices son iguales"
   ]
  },
  {
   "attachments": {},
   "cell_type": "markdown",
   "metadata": {},
   "source": [
    "Otra forma "
   ]
  },
  {
   "cell_type": "code",
   "execution_count": 25,
   "metadata": {},
   "outputs": [],
   "source": [
    "U,D,V = np.linalg.svd(A)"
   ]
  },
  {
   "cell_type": "code",
   "execution_count": 27,
   "metadata": {},
   "outputs": [
    {
     "name": "stdout",
     "output_type": "stream",
     "text": [
      "[[7.97638869 0.         0.        ]\n",
      " [0.         0.61418515 0.        ]]\n"
     ]
    }
   ],
   "source": [
    "D_complete = np.array([\n",
    "    [D[0],0,0],\n",
    "    [0,D[1],0]\n",
    "])\n",
    "print(D_complete)"
   ]
  },
  {
   "cell_type": "code",
   "execution_count": 30,
   "metadata": {},
   "outputs": [
    {
     "name": "stdout",
     "output_type": "stream",
     "text": [
      "[[1. 2. 3.]\n",
      " [3. 4. 5.]]\n"
     ]
    },
    {
     "data": {
      "text/plain": [
       "True"
      ]
     },
     "execution_count": 30,
     "metadata": {},
     "output_type": "execute_result"
    }
   ],
   "source": [
    "A_calc = U.dot(D_complete).dot(V)\n",
    "print(A_calc)\n",
    "np.allclose(A,A_calc)"
   ]
  }
 ],
 "metadata": {
  "kernelspec": {
   "display_name": "algebra_aplicada",
   "language": "python",
   "name": "python3"
  },
  "language_info": {
   "codemirror_mode": {
    "name": "ipython",
    "version": 3
   },
   "file_extension": ".py",
   "mimetype": "text/x-python",
   "name": "python",
   "nbconvert_exporter": "python",
   "pygments_lexer": "ipython3",
   "version": "3.9.16"
  },
  "orig_nbformat": 4
 },
 "nbformat": 4,
 "nbformat_minor": 2
}
