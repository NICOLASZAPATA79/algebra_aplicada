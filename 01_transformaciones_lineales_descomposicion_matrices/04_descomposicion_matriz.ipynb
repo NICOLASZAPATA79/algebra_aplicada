{
 "cells": [
  {
   "attachments": {},
   "cell_type": "markdown",
   "metadata": {},
   "source": [
    "# Descomposición de matrices\n",
    "\n",
    "Consiste en encontrar dos o más matrices que puedan ayudar a escribir la matriz original y que tengan ciertas propiedades.\n",
    "\n",
    "En el caso de una matriz cuadrada, esta se puede escribir como:\n",
    "\n",
    "$A = autovectores.diagonal de los autovectores.matriz autovectores^{-1}$"
   ]
  },
  {
   "cell_type": "code",
   "execution_count": 1,
   "metadata": {},
   "outputs": [],
   "source": [
    "import numpy as np"
   ]
  },
  {
   "cell_type": "code",
   "execution_count": 3,
   "metadata": {},
   "outputs": [
    {
     "name": "stdout",
     "output_type": "stream",
     "text": [
      "[[3 2]\n",
      " [4 1]]\n"
     ]
    }
   ],
   "source": [
    "A = np.array([\n",
    "    [3,2],\n",
    "    [4,1]\n",
    "])\n",
    "print(A)"
   ]
  },
  {
   "cell_type": "code",
   "execution_count": 5,
   "metadata": {},
   "outputs": [
    {
     "name": "stdout",
     "output_type": "stream",
     "text": [
      "[ 5. -1.]\n",
      "[[ 0.70710678 -0.4472136 ]\n",
      " [ 0.70710678  0.89442719]]\n"
     ]
    }
   ],
   "source": [
    "eigenvalues, eigenvectors = np.linalg.eig(A)\n",
    "print(eigenvalues)\n",
    "print(eigenvectors)"
   ]
  },
  {
   "cell_type": "code",
   "execution_count": 8,
   "metadata": {},
   "outputs": [
    {
     "name": "stdout",
     "output_type": "stream",
     "text": [
      "[[3. 2.]\n",
      " [4. 1.]]\n"
     ]
    }
   ],
   "source": [
    "A_calc = eigenvectors.dot(np.diag(eigenvalues)).dot(np.linalg.inv(eigenvectors))\n",
    "print(A_calc)"
   ]
  },
  {
   "attachments": {},
   "cell_type": "markdown",
   "metadata": {},
   "source": [
    "Se puede observar como la matiz originalmente pudo ser descompuesta en los tres terminos, esto se verifica ya que al realizar producto interno entre ellos, se obtiene la matriz original."
   ]
  },
  {
   "attachments": {},
   "cell_type": "markdown",
   "metadata": {},
   "source": [
    "## Matrices simétricas\n",
    "\n",
    "Recordando que las matrices simétricas tienen como carácteristica que al realizar la transpuesta de ésta, se obtiene la misma matriz.\n",
    "\n",
    "En el caso de la descomposición de matrices, se puede reemplazar el último termino de la inversa por la transpuesta. "
   ]
  },
  {
   "cell_type": "code",
   "execution_count": 10,
   "metadata": {},
   "outputs": [
    {
     "name": "stdout",
     "output_type": "stream",
     "text": [
      "[[3 2]\n",
      " [2 3]]\n"
     ]
    }
   ],
   "source": [
    "B = np.array([\n",
    "    [3,2],\n",
    "    [2,3]\n",
    "])\n",
    "print(B)"
   ]
  },
  {
   "cell_type": "code",
   "execution_count": 12,
   "metadata": {},
   "outputs": [
    {
     "name": "stdout",
     "output_type": "stream",
     "text": [
      "[[ True  True]\n",
      " [ True  True]]\n"
     ]
    }
   ],
   "source": [
    "print(B==B.T) # Verificación de matriz simétrica"
   ]
  },
  {
   "cell_type": "code",
   "execution_count": 14,
   "metadata": {},
   "outputs": [
    {
     "name": "stdout",
     "output_type": "stream",
     "text": [
      "[5. 1.]\n",
      "[[ 0.70710678 -0.70710678]\n",
      " [ 0.70710678  0.70710678]]\n"
     ]
    }
   ],
   "source": [
    "eigenvalues_B,eigenvectors_B = np.linalg.eig(B)\n",
    "print(eigenvalues_B)\n",
    "print(eigenvectors_B)"
   ]
  },
  {
   "cell_type": "code",
   "execution_count": 16,
   "metadata": {},
   "outputs": [
    {
     "name": "stdout",
     "output_type": "stream",
     "text": [
      "[[3. 2.]\n",
      " [2. 3.]]\n"
     ]
    }
   ],
   "source": [
    "B_calc= eigenvectors_B.dot(np.diag(eigenvalues_B)).dot(eigenvectors_B.T)\n",
    "print(B_calc)"
   ]
  },
  {
   "attachments": {},
   "cell_type": "markdown",
   "metadata": {},
   "source": [
    "Computacionalmente es más eficiente utilizar la transpuesta que la inversa"
   ]
  },
  {
   "cell_type": "code",
   "execution_count": 17,
   "metadata": {},
   "outputs": [
    {
     "name": "stdout",
     "output_type": "stream",
     "text": [
      "[[3. 2.]\n",
      " [2. 3.]]\n"
     ]
    }
   ],
   "source": [
    "B_calc= eigenvectors_B.dot(np.diag(eigenvalues_B)).dot(np.linalg.inv(eigenvectors_B))\n",
    "print(B_calc)"
   ]
  },
  {
   "attachments": {},
   "cell_type": "markdown",
   "metadata": {},
   "source": [
    "Descomposición de matrices:\n",
    "Consiste en reescribir una matriz cuadrada X como un producto de A x B x C, es decir X = AxBxC, donde:\n",
    "\n",
    "- A: es la matriz formada por los autovectores\n",
    "- B: matriz diagonal formada por los autovalores\n",
    "- C: matriz inversa de A.\n",
    "\n",
    "Nota: En matrices reales y simétricas, C = A.T (matriz traspuesta de los autovectores). Esta propiedad tiene menor costo computacional."
   ]
  }
 ],
 "metadata": {
  "kernelspec": {
   "display_name": "algebra_aplicada",
   "language": "python",
   "name": "python3"
  },
  "language_info": {
   "codemirror_mode": {
    "name": "ipython",
    "version": 3
   },
   "file_extension": ".py",
   "mimetype": "text/x-python",
   "name": "python",
   "nbconvert_exporter": "python",
   "pygments_lexer": "ipython3",
   "version": "3.9.16"
  },
  "orig_nbformat": 4
 },
 "nbformat": 4,
 "nbformat_minor": 2
}
