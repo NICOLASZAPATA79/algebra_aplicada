{
 "cells": [
  {
   "attachments": {},
   "cell_type": "markdown",
   "metadata": {},
   "source": [
    "# Pseudo inversa de Moore Penrose"
   ]
  },
  {
   "attachments": {},
   "cell_type": "markdown",
   "metadata": {},
   "source": [
    "\n",
    "La pseudoinversa es una aplicación directa de svd (singular value decomposition), que permite resolver en multiples ocasiones sistemas de ecuaciones lineales.\n",
    "\n",
    "La matriz pseudoinversa es utilizada cuando en un sistema de ecuaciones lineales, representado por:\n",
    "\n",
    " - $Ax = B$ \n",
    " \n",
    " $x$ no tiene inversa. Esta operación es única y existe si se verifican 4 condiciones. Estas son:\n",
    "\n",
    "\n",
    "- A⁺AA⁺ = A⁺ (idempotencia)\n",
    "- AA⁺A = A (idempotencia)\n",
    "- (AA⁺)ᵀ = AA⁺\n",
    "- (A⁺A)ᵀ = A⁺A\n",
    "\n",
    "Siendo A⁺ la pseudoinversa de la matriz A\n",
    "\n"
   ]
  },
  {
   "cell_type": "code",
   "execution_count": 1,
   "metadata": {},
   "outputs": [],
   "source": [
    "import numpy as np\n",
    "np.set_printoptions(suppress=True) # Con esto le decimos a numpy que todos los valores cercanos a cero, los ponga como ceros"
   ]
  },
  {
   "attachments": {},
   "cell_type": "markdown",
   "metadata": {},
   "source": [
    "El procedimiento para calcular r la pseudoinversa es el siguiente: \n",
    "\n",
    "1) Calcular las matrices $U$, $D$, y  $V$ (matrices SVD) de $A$.\n",
    "2) Construir $D_(pse)$: una matriz de ceros que tiene igual dimension de $A$, y que luego se transpone.\n",
    "3) Reemplazar la submatriz $D_pse[: D.shape[0], : D.shape[0]] por np.linalg.inv(np.diag(D))$\n",
    "4) Reconstruir pseudoinversa: $A_(pse) = V.T.dot(D_pse).dot(U.T)$"
   ]
  },
  {
   "cell_type": "code",
   "execution_count": 4,
   "metadata": {},
   "outputs": [
    {
     "name": "stdout",
     "output_type": "stream",
     "text": [
      "[[ 2  3]\n",
      " [ 5  7]\n",
      " [11 13]]\n",
      "(3, 2)\n"
     ]
    }
   ],
   "source": [
    "A = np.array([\n",
    "    [2,3],\n",
    "    [5,7],\n",
    "    [11,13]\n",
    "])\n",
    "print(A)\n",
    "print(A.shape)"
   ]
  },
  {
   "attachments": {},
   "cell_type": "markdown",
   "metadata": {},
   "source": [
    "1) Calcular las matrices $U$, $D$, y  $V$ (matrices SVD) de $A$."
   ]
  },
  {
   "cell_type": "code",
   "execution_count": 6,
   "metadata": {},
   "outputs": [
    {
     "name": "stdout",
     "output_type": "stream",
     "text": [
      "U\n",
      "[[-0.18499741 -0.47276624 -0.86154979]\n",
      " [-0.44249308 -0.74271297  0.50257071]\n",
      " [-0.87748267  0.4742041  -0.07179582]]\n",
      "D\n",
      "[19.40321383  0.71783924]\n",
      "V\n",
      "[[-0.63055377 -0.77614557]\n",
      " [ 0.77614557 -0.63055377]]\n"
     ]
    }
   ],
   "source": [
    "U,D,V  = np.linalg.svd(A)\n",
    "print('U')\n",
    "print(U)\n",
    "print('D')\n",
    "print(D)\n",
    "print('V')\n",
    "print(V)"
   ]
  },
  {
   "attachments": {},
   "cell_type": "markdown",
   "metadata": {},
   "source": [
    "2) Construir $D_(pse)$: una matriz de ceros que tiene igual dimension de $A$, y que luego se transpone."
   ]
  },
  {
   "cell_type": "code",
   "execution_count": 29,
   "metadata": {},
   "outputs": [
    {
     "name": "stdout",
     "output_type": "stream",
     "text": [
      "[[0. 0. 0.]\n",
      " [0. 0. 0.]]\n"
     ]
    }
   ],
   "source": [
    "D_pse = np.zeros((A.shape[0],A.shape[1])).T\n",
    "print(D_pse)"
   ]
  },
  {
   "cell_type": "code",
   "execution_count": 30,
   "metadata": {},
   "outputs": [
    {
     "name": "stdout",
     "output_type": "stream",
     "text": [
      "[[0. 0. 0.]\n",
      " [0. 0. 0.]]\n"
     ]
    }
   ],
   "source": [
    "print(D_pse[:D.shape[0]])\n"
   ]
  },
  {
   "cell_type": "code",
   "execution_count": 31,
   "metadata": {},
   "outputs": [
    {
     "name": "stdout",
     "output_type": "stream",
     "text": [
      "Valores a reemplazar en D_pse\n",
      "[[0. 0.]\n",
      " [0. 0.]]\n"
     ]
    }
   ],
   "source": [
    "print('Valores a reemplazar en D_pse')\n",
    "print(D_pse[:D.shape[0],:D.shape[0]])"
   ]
  },
  {
   "cell_type": "code",
   "execution_count": 32,
   "metadata": {},
   "outputs": [
    {
     "name": "stdout",
     "output_type": "stream",
     "text": [
      "Valores que pondremos en D_pse\n",
      "[[0.05153785 0.        ]\n",
      " [0.         1.39306957]]\n"
     ]
    }
   ],
   "source": [
    "print('Valores que pondremos en D_pse')\n",
    "print(np.linalg.inv(np.diag(D)))"
   ]
  },
  {
   "attachments": {},
   "cell_type": "markdown",
   "metadata": {},
   "source": [
    "3) Reemplazar la submatriz $D_pse[: D.shape[0], : D.shape[0]] por np.linalg.inv(np.diag(D))$"
   ]
  },
  {
   "cell_type": "code",
   "execution_count": 33,
   "metadata": {},
   "outputs": [
    {
     "name": "stdout",
     "output_type": "stream",
     "text": [
      "D_pse\n",
      "[[0.05153785 0.         0.        ]\n",
      " [0.         1.39306957 0.        ]]\n"
     ]
    }
   ],
   "source": [
    "print('D_pse')\n",
    "D_pse[:D.shape[0],:D.shape[0]] = np.linalg.inv(np.diag(D))\n",
    "print(D_pse)"
   ]
  },
  {
   "attachments": {},
   "cell_type": "markdown",
   "metadata": {},
   "source": [
    "4) Reconstruir pseudoinversa: $A_(pse) = V.T.dot(D_pse).dot(U.T)$"
   ]
  },
  {
   "cell_type": "code",
   "execution_count": 35,
   "metadata": {},
   "outputs": [
    {
     "name": "stdout",
     "output_type": "stream",
     "text": [
      "[[-0.50515464 -0.78865979  0.54123711]\n",
      " [ 0.42268041  0.67010309 -0.3814433 ]]\n"
     ]
    }
   ],
   "source": [
    "A_pse = V.T.dot(D_pse).dot(U.T)\n",
    "print(A_pse)"
   ]
  },
  {
   "attachments": {},
   "cell_type": "markdown",
   "metadata": {},
   "source": [
    "Se comprueba realizando producto interno entre la matriz A pseudoinversa con la matriz A, el resultado debe ser muy similar a la matriz identidad."
   ]
  },
  {
   "cell_type": "code",
   "execution_count": 36,
   "metadata": {},
   "outputs": [
    {
     "name": "stdout",
     "output_type": "stream",
     "text": [
      "[[ 1. -0.]\n",
      " [ 0.  1.]]\n"
     ]
    }
   ],
   "source": [
    "print(A_pse.dot(A))"
   ]
  },
  {
   "attachments": {},
   "cell_type": "markdown",
   "metadata": {},
   "source": [
    "Si se desactiva la opción de aproximar los ceros, los resultados cambian. "
   ]
  },
  {
   "cell_type": "code",
   "execution_count": 37,
   "metadata": {},
   "outputs": [],
   "source": [
    "np.set_printoptions(suppress=False)"
   ]
  },
  {
   "cell_type": "code",
   "execution_count": 38,
   "metadata": {},
   "outputs": [
    {
     "name": "stdout",
     "output_type": "stream",
     "text": [
      "[[ 1.00000000e+00 -1.77635684e-15]\n",
      " [ 4.44089210e-16  1.00000000e+00]]\n"
     ]
    }
   ],
   "source": [
    "print(A_pse.dot(A))"
   ]
  },
  {
   "attachments": {},
   "cell_type": "markdown",
   "metadata": {},
   "source": [
    "La operación no es un conmutativa, por ello es diferente realizar producto interno $A_(pse).A$, el cual da como resultado la matruz identidad, que $A.A_(pse)$"
   ]
  },
  {
   "cell_type": "code",
   "execution_count": 39,
   "metadata": {},
   "outputs": [
    {
     "name": "stdout",
     "output_type": "stream",
     "text": [
      "[[ 0.25773196  0.43298969 -0.06185567]\n",
      " [ 0.43298969  0.74742268  0.03608247]\n",
      " [-0.06185567  0.03608247  0.99484536]]\n"
     ]
    }
   ],
   "source": [
    "print(A.dot(A_pse))"
   ]
  },
  {
   "attachments": {},
   "cell_type": "markdown",
   "metadata": {},
   "source": [
    "La pseudoinversa se puede obtener directamente como una herramienta de Numpy\n"
   ]
  },
  {
   "cell_type": "code",
   "execution_count": 42,
   "metadata": {},
   "outputs": [
    {
     "name": "stdout",
     "output_type": "stream",
     "text": [
      "[[-0.50515464 -0.78865979  0.54123711]\n",
      " [ 0.42268041  0.67010309 -0.3814433 ]]\n",
      "[[-0.50515464 -0.78865979  0.54123711]\n",
      " [ 0.42268041  0.67010309 -0.3814433 ]]\n"
     ]
    }
   ],
   "source": [
    "print(np.linalg.pinv(A))\n",
    "print(A_pse)"
   ]
  },
  {
   "attachments": {},
   "cell_type": "markdown",
   "metadata": {},
   "source": [
    "Otra forma de encontrar la pseudoinversa es la siguiente:"
   ]
  },
  {
   "cell_type": "code",
   "execution_count": 47,
   "metadata": {},
   "outputs": [
    {
     "name": "stdout",
     "output_type": "stream",
     "text": [
      "[[-0.50515464 -0.78865979  0.54123711]\n",
      " [ 0.42268041  0.67010309 -0.3814433 ]]\n"
     ]
    }
   ],
   "source": [
    "A_pse2 = np.linalg.inv(A.T.dot(A)).dot(A.T)\n",
    "print(A_pse2)"
   ]
  }
 ],
 "metadata": {
  "kernelspec": {
   "display_name": "algebra_aplicada",
   "language": "python",
   "name": "python3"
  },
  "language_info": {
   "codemirror_mode": {
    "name": "ipython",
    "version": 3
   },
   "file_extension": ".py",
   "mimetype": "text/x-python",
   "name": "python",
   "nbconvert_exporter": "python",
   "pygments_lexer": "ipython3",
   "version": "3.9.16"
  },
  "orig_nbformat": 4
 },
 "nbformat": 4,
 "nbformat_minor": 2
}
