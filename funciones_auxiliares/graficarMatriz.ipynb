{
 "cells": [
  {
   "cell_type": "code",
   "execution_count": 7,
   "metadata": {},
   "outputs": [],
   "source": [
    "import numpy as np"
   ]
  },
  {
   "cell_type": "code",
   "execution_count": 8,
   "metadata": {},
   "outputs": [],
   "source": [
    "def graficarMatriz(matrix, vectorCol=['red','blue']):\n",
    "    \n",
    "    # Circulo unitario \n",
    "    x = np.linspace(-1,1,100000)\n",
    "    y = np.sqrt(1-(x**2))\n",
    "    \n",
    "    # Circulo unitario transformado\n",
    "    x1 = matrix[0,0]*x + matrix[0,1]*y\n",
    "    y1 = matrix[1,0]*x + matrix[1,1]*y\n",
    "    x1_neg = matrix[0,0]*x - matrix[0,1]*y\n",
    "    y1_neg = matrix[1,0]*x - matrix[1,1]*y\n",
    "    \n",
    "    # Vectores\n",
    "    u1 = [matrix[0,0], matrix[1,0]]\n",
    "    v1 = [matrix[0,1], matrix[1,1]]\n",
    "    \n",
    "    graficarVectores(\n",
    "        [u1,v1],\n",
    "        cols = [vectorCol[0],vectorCol[1]]\n",
    "        )\n",
    "    plt.plot(x1,y1,color='green',alpha=0.7)\n",
    "    plt.plot(x1_neg,y1_neg,color='green',alpha=0.7)"
   ]
  }
 ],
 "metadata": {
  "kernelspec": {
   "display_name": "algebra_aplicada",
   "language": "python",
   "name": "python3"
  },
  "language_info": {
   "codemirror_mode": {
    "name": "ipython",
    "version": 3
   },
   "file_extension": ".py",
   "mimetype": "text/x-python",
   "name": "python",
   "nbconvert_exporter": "python",
   "pygments_lexer": "ipython3",
   "version": "3.9.16"
  },
  "orig_nbformat": 4
 },
 "nbformat": 4,
 "nbformat_minor": 2
}
