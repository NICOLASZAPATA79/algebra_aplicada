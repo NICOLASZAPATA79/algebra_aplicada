{
 "cells": [
  {
   "cell_type": "code",
   "execution_count": 1,
   "metadata": {},
   "outputs": [],
   "source": [
    "import numpy as np"
   ]
  },
  {
   "cell_type": "code",
   "execution_count": 5,
   "metadata": {},
   "outputs": [],
   "source": [
    "# Recibirá los vectores, los colores y el nivel de trasparencia con el cual trabajaremos \n",
    "# vecs = vectores[]\n",
    "# cols= colores []\n",
    "# alpha = transparencia \n",
    "\n",
    "def graficarVectores(vecs,cols,alpha=1):\n",
    "    # Se agrega eje vertical. Este se cruzará en x = 0, el color será gris y el orden de z será 0 \n",
    "    plt.axvline(x=0, color='grey',zorder=0)\n",
    "    # Se agrega eje horizontal. Este se cruzará en y = 0, el color será gris y el orden de z será 0 \n",
    "    plt.axhline(y=0, color='grey',zorder=0)\n",
    "    \n",
    "    # Se itera para cada uno de los vectores\n",
    "    for i in range (len(vecs)):\n",
    "        # se concatenan los vectores con un vector de origen para poder graficarse\n",
    "        x = np.concatenate([[0,0],vecs[i]])\n",
    "        plt.quiver(\n",
    "            [x[0]], # coordenada origen x\n",
    "            [x[1]], # coordenada origen y\n",
    "            [x[2]], # coordenada final x\n",
    "            [x[3]], # coordenada final y\n",
    "            angles= 'xy',\n",
    "            scale_units='xy',\n",
    "            scale=1,\n",
    "            color = cols[i],\n",
    "            alpha=alpha\n",
    "        )"
   ]
  }
 ],
 "metadata": {
  "kernelspec": {
   "display_name": "algebra_aplicada",
   "language": "python",
   "name": "python3"
  },
  "language_info": {
   "codemirror_mode": {
    "name": "ipython",
    "version": 3
   },
   "file_extension": ".py",
   "mimetype": "text/x-python",
   "name": "python",
   "nbconvert_exporter": "python",
   "pygments_lexer": "ipython3",
   "version": "3.9.16"
  },
  "orig_nbformat": 4
 },
 "nbformat": 4,
 "nbformat_minor": 2
}
